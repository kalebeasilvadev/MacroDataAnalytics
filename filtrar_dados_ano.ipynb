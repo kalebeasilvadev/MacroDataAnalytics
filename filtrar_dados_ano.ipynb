{
 "cells": [
  {
   "cell_type": "code",
   "id": "initial_id",
   "metadata": {
    "collapsed": true,
    "ExecuteTime": {
     "end_time": "2025-04-08T14:06:18.630041Z",
     "start_time": "2025-04-08T14:06:18.523179Z"
    }
   },
   "source": [
    "from pyspark.sql import SparkSession\n",
    "from pyspark.sql.functions import col"
   ],
   "outputs": [],
   "execution_count": 1
  },
  {
   "metadata": {
    "ExecuteTime": {
     "end_time": "2025-04-08T14:06:21.093770Z",
     "start_time": "2025-04-08T14:06:18.633240Z"
    }
   },
   "cell_type": "code",
   "source": [
    "spark = SparkSession.builder \\\n",
    "    .appName(\"microdados\") \\\n",
    "    .getOrCreate()"
   ],
   "id": "ea76739f4466f2df",
   "outputs": [
    {
     "name": "stderr",
     "output_type": "stream",
     "text": [
      "Setting default log level to \"WARN\".\n",
      "To adjust logging level use sc.setLogLevel(newLevel). For SparkR, use setLogLevel(newLevel).\n",
      "25/04/08 11:06:20 WARN NativeCodeLoader: Unable to load native-hadoop library for your platform... using builtin-java classes where applicable\n"
     ]
    }
   ],
   "execution_count": 2
  },
  {
   "metadata": {
    "ExecuteTime": {
     "end_time": "2025-04-08T14:06:46.180846Z",
     "start_time": "2025-04-08T14:06:21.168394Z"
    }
   },
   "cell_type": "code",
   "source": "df_spark = spark.read.csv('data/microdados_antigos.csv', header=True, inferSchema=True)",
   "id": "fd7f3988197673ea",
   "outputs": [
    {
     "name": "stderr",
     "output_type": "stream",
     "text": [
      "                                                                                \r"
     ]
    }
   ],
   "execution_count": 3
  },
  {
   "metadata": {
    "ExecuteTime": {
     "end_time": "2025-04-08T14:06:46.202792Z",
     "start_time": "2025-04-08T14:06:46.192947Z"
    }
   },
   "cell_type": "code",
   "source": "df_filtrado = df_spark.filter(col('ano') == 2007)",
   "id": "f6d7ea710620a724",
   "outputs": [],
   "execution_count": 4
  },
  {
   "metadata": {
    "ExecuteTime": {
     "end_time": "2025-04-08T14:06:46.423530Z",
     "start_time": "2025-04-08T14:06:46.208701Z"
    }
   },
   "cell_type": "code",
   "source": "df_filtrado.show()",
   "id": "e03f513e67659cf3",
   "outputs": [
    {
     "name": "stderr",
     "output_type": "stream",
     "text": [
      "25/04/08 11:06:46 WARN SparkStringUtils: Truncated the string representation of a plan since it was too large. This behavior can be adjusted by setting 'spark.sql.debug.maxToStringFields'.\n"
     ]
    },
    {
     "name": "stdout",
     "output_type": "stream",
     "text": [
      "+----+---+--------+------------+--------------+--------------------+--------------------+-----------------------------+----------------------------+-------------+----------------------------+--------------+------------------+------------------+-------------------------------+--------------------------+------------------------------+----------------+--------+------+------+----------------+--------------+-----+----+--------+-------------+----------+-----------------+----------+------------+-------------------------+-------------------------+-------------------------+-------------+----------------+-------------+---------------+---------------+---------------+------------------+\n",
      "| ano|mes|sigla_uf|id_municipio|id_municipio_6|admitidos_desligados|tipo_estabelecimento|tipo_movimentacao_desagregado|faixa_emprego_inicio_janeiro|tempo_emprego|quantidade_horas_contratadas|salario_mensal|saldo_movimentacao|indicador_aprendiz|indicador_trabalho_intermitente|indicador_trabalho_parcial|indicador_portador_deficiencia|tipo_deficiencia|cbo_2002|cnae_1|cnae_2|cnae_2_subclasse|grau_instrucao|idade|sexo|raca_cor|subsetor_ibge|bairros_sp|bairros_fortaleza|bairros_rj|distritos_sp|regiao_administrativas_df|regiao_administrativas_rj|regiao_administrativas_sp|regiao_corede|regiao_corede_04|regiao_gov_sp|regiao_senac_pr|regiao_senai_pr|regiao_senai_sp|subregiao_senai_pr|\n",
      "+----+---+--------+------------+--------------+--------------------+--------------------+-----------------------------+----------------------------+-------------+----------------------------+--------------+------------------+------------------+-------------------------------+--------------------------+------------------------------+----------------+--------+------+------+----------------+--------------+-----+----+--------+-------------+----------+-----------------+----------+------------+-------------------------+-------------------------+-------------------------+-------------+----------------+-------------+---------------+---------------+---------------+------------------+\n",
      "|2007|  7|      RS|     4314902|        431490|                   2|                   1|                            6|                           6|          0.0|                          44|         687.0|                -1|                 0|                           NULL|                      NULL|                             0|            NULL|  413220| 000-1| 80111|         00000-1|             7|   31|   2|       2|         21.0|      0000|             0000|      0000|        0000|                        0|                     NULL|                      999|           11|              12|          999|             99|           NULL|            999|              99.0|\n",
      "|2007|  5|      MG|     3106200|        310620|                   2|                   1|                            4|                           2|          2.0|                          44|         400.0|                -1|                 0|                           NULL|                      NULL|                             0|            NULL|  514210| 000-1| 56112|         00000-1|             4|   29|   2|       8|         21.0|      0000|             0000|      0000|        0000|                        0|                     NULL|                      999|         NULL|              99|          999|             99|           NULL|            999|              99.0|\n",
      "|2007|  5|      MT|     5103353|        510335|                   1|                   1|                            1|                           7|          0.0|                          44|         462.0|                 1|                 0|                           NULL|                      NULL|                             0|            NULL|  622020| 000-1| 19314|         00000-1|             2|   24|   1|       8|         13.0|      0000|             0000|      0000|        0000|                        0|                     NULL|                      999|         NULL|              99|          999|             99|           NULL|            999|              99.0|\n",
      "|2007| 10|      SE|     2800308|        280030|                   2|                   1|                            4|                           4|        106.0|                          44|         385.0|                -1|                 0|                           NULL|                      NULL|                             0|            NULL|  142320| 000-1| 47814|         00000-1|             6|   34|   2|       8|         16.0|      0000|             0000|      0000|        0000|                        0|                     NULL|                      999|         NULL|              99|          999|             99|           NULL|            999|              99.0|\n",
      "|2007|  7|      CE|     2304400|        230440|                   2|                   1|                            4|                           4|         11.0|                          44|         395.0|                -1|                 0|                           NULL|                      NULL|                             0|            NULL|  521135| 000-1| 47318|         00000-1|             7|   21|   1|       2|         16.0|      0000|             0035|      0000|        0000|                        0|                     NULL|                      999|         NULL|              99|          999|             99|           NULL|            999|              99.0|\n",
      "|2007| 10|      SP|     3550308|        355030|                   2|                   1|                            6|                           1|          1.0|                          44|         708.0|                -1|                 0|                           NULL|                      NULL|                             0|            NULL|  782220| 000-1| 78205|         00000-1|             7|   39|   1|       2|         19.0|      1413|             0000|      0000|        0026|                        0|                     NULL|                      013|         NULL|              99|          001|             99|           NULL|             46|              99.0|\n",
      "|2007|  5|      RJ|     3302205|        330220|                   1|                   1|                            1|                           1|          0.0|                          44|         390.0|                 1|                 0|                           NULL|                      NULL|                             0|            NULL|  766405| 000-1| 47890|         4789008|             6|   25|   1|       2|         16.0|      0000|             0000|      9999|        0000|                        0|                       99|                      999|         NULL|              99|          999|             99|           NULL|            999|              99.0|\n",
      "|2007|  9|      ES|     3203205|        320320|                   2|                   3|                            4|                           3|          4.0|                          44|         415.0|                -1|                 0|                           NULL|                      NULL|                             0|            NULL|  717020| 000-1| 42995|         00000-1|             3|   48|   1|       4|         15.0|      0000|             0000|      0000|        0000|                        0|                     NULL|                      999|         NULL|              99|          999|             99|           NULL|            999|              99.0|\n",
      "|2007| 10|      RJ|     3304557|        330455|                   1|                   1|                            2|                           4|          0.0|                          44|        1400.0|                 1|                 0|                           NULL|                      NULL|                             0|            NULL|  223710| 000-1| 56201|         00000-1|             9|   33|   2|       2|         13.0|      0000|             0000|      NULL|        0000|                        0|                     NULL|                      999|         NULL|              99|          999|             99|           NULL|            999|              99.0|\n",
      "|2007|  8|      BA|     2910057|        291005|                   2|                   1|                            4|                           5|          5.0|                          44|         760.0|                -1|                 0|                           NULL|                      NULL|                             0|            NULL|  782305| 000-1| 41204|         00000-1|             5|   44|   1|       8|         15.0|      0000|             0000|      0000|        0000|                        0|                     NULL|                      999|         NULL|              99|          999|             99|           NULL|            999|              99.0|\n",
      "|2007|  8|      PR|     4105201|        410520|                   1|                   1|                            1|                           1|          0.0|                          44|         462.0|                 1|                 0|                           NULL|                      NULL|                             0|            NULL|  632125| 000-1| 02101|         0210107|             3|   36|   1|       2|         25.0|      0000|             0000|      0000|        0000|                        0|                     NULL|                      999|         NULL|              99|          999|             07|              2|            999|               3.0|\n",
      "|2007|  1|      SC|     4204608|        420460|                   1|                   1|                            2|                           5|          0.0|                          44|         839.0|                 1|                 0|                           NULL|                      NULL|                             0|            NULL|  641010| 000-1| 23419|         00000-1|             7|   31|   1|       2|          2.0|      0000|             0000|      0000|        0000|                        0|                     NULL|                      999|         NULL|              99|          999|             99|           NULL|            999|              99.0|\n",
      "|2007| 12|      RS|     4314902|        431490|                   1|                   1|                            2|                           1|          0.0|                          44|         740.0|                 1|                 0|                           NULL|                      NULL|                             0|            NULL|  782505| 000-1| 47237|         00000-1|             7|   37|   1|       2|         16.0|      0000|             0000|      0000|        0000|                        0|                     NULL|                      999|           11|              12|          999|             99|           NULL|            999|              99.0|\n",
      "|2007|  6|      SC|     4217303|        421730|                   1|                   1|                            1|                           6|          0.0|                          44|         430.0|                 1|                 0|                           NULL|                      NULL|                             0|            NULL|  717020| 000-1| 00000|         00000-1|             4|   35|   1|       2|         14.0|      0000|             0000|      0000|        0000|                        0|                     NULL|                      999|         NULL|              99|          999|             99|           NULL|            999|              99.0|\n",
      "|2007| 10|      SP|     3550308|        355030|                   1|                   1|                            2|                           1|          0.0|                          36|         874.0|                 1|                 0|                           NULL|                      NULL|                             0|            NULL|  322230| 000-1| 86909|         00000-1|             7|   24|   2|       2|         22.0|      0088|             0000|      0000|        0021|                        0|                     NULL|                      013|         NULL|              99|          001|             99|           NULL|             46|              99.0|\n",
      "|2007| 11|      RS|     4314902|        431490|                   2|                   1|                           11|                           3|          2.0|                          10|         170.0|                -1|                 0|                           NULL|                      NULL|                             0|            NULL|  212420| 000-1| 62040|         00000-1|             9|   30|   1|       2|         19.0|      0000|             0000|      0000|        0000|                        0|                     NULL|                      999|           11|              12|          999|             99|           NULL|            999|              99.0|\n",
      "|2007| 10|      RJ|     3303302|        330330|                   2|                   1|                           11|                           6|          1.0|                          44|         821.0|                -1|                 0|                           NULL|                      NULL|                             0|            NULL|  724220| 000-1| 30113|         00000-1|             5|   23|   1|       2|          6.0|      0000|             0000|      9999|        0000|                        0|                       99|                      999|         NULL|              99|          999|             99|           NULL|            999|              99.0|\n",
      "|2007|  1|      PE|     2604106|        260410|                   2|                   1|                            4|                           3|         14.0|                          44|         424.0|                -1|                 0|                           NULL|                      NULL|                             0|            NULL|  516325| 000-1| 96017|         00000-1|             5|   21|   1|       2|         21.0|      0000|             0000|      0000|        0000|                        0|                     NULL|                      999|         NULL|              99|          999|             99|           NULL|            999|              99.0|\n",
      "|2007|  8|      SP|     3501608|        350160|                   1|                   1|                            2|                           7|          0.0|                          44|        1045.0|                 1|                 0|                           NULL|                      NULL|                             0|            NULL|  721420| 000-1| 27333|         00000-1|             7|   49|   1|       2|          5.0|      9999|             0000|      0000|        9999|                        0|                     NULL|                      004|         NULL|              99|          015|             99|           NULL|              1|              99.0|\n",
      "|2007|  5|      SP|     3552502|        355250|                   2|                   3|                            4|                           2|         24.0|                          44|         460.0|                -1|                 0|                           NULL|                      NULL|                             0|            NULL|  412205| 000-1| 86909|         00000-1|             6|   21|   1|       2|         22.0|      9999|             0000|      0000|        9999|                        0|                     NULL|                      013|         NULL|              99|          001|             99|           NULL|             50|              99.0|\n",
      "+----+---+--------+------------+--------------+--------------------+--------------------+-----------------------------+----------------------------+-------------+----------------------------+--------------+------------------+------------------+-------------------------------+--------------------------+------------------------------+----------------+--------+------+------+----------------+--------------+-----+----+--------+-------------+----------+-----------------+----------+------------+-------------------------+-------------------------+-------------------------+-------------+----------------+-------------+---------------+---------------+---------------+------------------+\n",
      "only showing top 20 rows\n",
      "\n"
     ]
    }
   ],
   "execution_count": 5
  },
  {
   "metadata": {
    "ExecuteTime": {
     "end_time": "2025-04-08T14:06:46.455064Z",
     "start_time": "2025-04-08T14:06:46.443855Z"
    }
   },
   "cell_type": "code",
   "source": [
    "# Lista de colunas para remover\n",
    "colunas_para_remover = [\n",
    "    'subsetor_ibge',\n",
    "    'bairros_sp',\n",
    "    'bairros_fortaleza',\n",
    "    'bairros_rj',\n",
    "    'distritos_sp',\n",
    "    'regiao_administrativas_df',\n",
    "    'regiao_administrativas_rj',\n",
    "    'regiao_administrativas_sp',\n",
    "    'regiao_corede',\n",
    "    'regiao_corede_04',\n",
    "    'regiao_gov_sp',\n",
    "    'regiao_senac_pr',\n",
    "    'regiao_senai_pr',\n",
    "    'regiao_senai_sp',\n",
    "    'subregiao_senai_pr',\n",
    "    \"cbo_2002\", \"cnae_1\", \"cnae_2\", \"cnae_2_subclasse\",\n",
    "    \"id_matricula\"\n",
    "]\n",
    "\n",
    "# Remover as colunas\n",
    "df_limpo = df_filtrado.drop(*colunas_para_remover)"
   ],
   "id": "e625bde226a5d046",
   "outputs": [],
   "execution_count": 6
  },
  {
   "metadata": {
    "ExecuteTime": {
     "end_time": "2025-04-08T14:07:01.429569Z",
     "start_time": "2025-04-08T14:06:46.702433Z"
    }
   },
   "cell_type": "code",
   "source": [
    "caminho_saida = 'data/microdados_2007.parquet'\n",
    "# Exportar para CSV\n",
    "df_limpo.write \\\n",
    "    .mode('overwrite') \\\n",
    "    .option('compression', 'snappy') \\\n",
    "    .parquet(caminho_saida)"
   ],
   "id": "8628becf47147756",
   "outputs": [
    {
     "name": "stderr",
     "output_type": "stream",
     "text": [
      "25/04/08 11:06:47 WARN MemoryManager: Total allocation exceeds 95,00% (1.020.054.720 bytes) of heap memory\n",
      "Scaling row group sizes to 95,00% for 8 writers\n",
      "25/04/08 11:06:47 WARN MemoryManager: Total allocation exceeds 95,00% (1.020.054.720 bytes) of heap memory\n",
      "Scaling row group sizes to 84,44% for 9 writers\n",
      "25/04/08 11:06:47 WARN MemoryManager: Total allocation exceeds 95,00% (1.020.054.720 bytes) of heap memory\n",
      "Scaling row group sizes to 76,00% for 10 writers\n",
      "25/04/08 11:06:47 WARN MemoryManager: Total allocation exceeds 95,00% (1.020.054.720 bytes) of heap memory\n",
      "Scaling row group sizes to 69,09% for 11 writers\n",
      "25/04/08 11:06:49 WARN MemoryManager: Total allocation exceeds 95,00% (1.020.054.720 bytes) of heap memory\n",
      "Scaling row group sizes to 76,00% for 10 writers\n",
      "25/04/08 11:06:49 WARN MemoryManager: Total allocation exceeds 95,00% (1.020.054.720 bytes) of heap memory\n",
      "Scaling row group sizes to 84,44% for 9 writers\n",
      "25/04/08 11:06:49 WARN MemoryManager: Total allocation exceeds 95,00% (1.020.054.720 bytes) of heap memory\n",
      "Scaling row group sizes to 95,00% for 8 writers\n",
      "25/04/08 11:06:50 WARN MemoryManager: Total allocation exceeds 95,00% (1.020.054.720 bytes) of heap memory\n",
      "Scaling row group sizes to 95,00% for 8 writers\n",
      "25/04/08 11:06:50 WARN MemoryManager: Total allocation exceeds 95,00% (1.020.054.720 bytes) of heap memory\n",
      "Scaling row group sizes to 95,00% for 8 writers\n",
      "25/04/08 11:06:50 WARN MemoryManager: Total allocation exceeds 95,00% (1.020.054.720 bytes) of heap memory\n",
      "Scaling row group sizes to 84,44% for 9 writers\n",
      "25/04/08 11:06:50 WARN MemoryManager: Total allocation exceeds 95,00% (1.020.054.720 bytes) of heap memory\n",
      "Scaling row group sizes to 76,00% for 10 writers\n",
      "25/04/08 11:06:50 WARN MemoryManager: Total allocation exceeds 95,00% (1.020.054.720 bytes) of heap memory\n",
      "Scaling row group sizes to 69,09% for 11 writers\n",
      "25/04/08 11:06:52 WARN MemoryManager: Total allocation exceeds 95,00% (1.020.054.720 bytes) of heap memory\n",
      "Scaling row group sizes to 76,00% for 10 writers\n",
      "25/04/08 11:06:52 WARN MemoryManager: Total allocation exceeds 95,00% (1.020.054.720 bytes) of heap memory\n",
      "Scaling row group sizes to 84,44% for 9 writers\n",
      "25/04/08 11:06:52 WARN MemoryManager: Total allocation exceeds 95,00% (1.020.054.720 bytes) of heap memory\n",
      "Scaling row group sizes to 95,00% for 8 writers\n",
      "25/04/08 11:06:52 WARN MemoryManager: Total allocation exceeds 95,00% (1.020.054.720 bytes) of heap memory\n",
      "Scaling row group sizes to 95,00% for 8 writers\n",
      "25/04/08 11:06:52 WARN MemoryManager: Total allocation exceeds 95,00% (1.020.054.720 bytes) of heap memory\n",
      "Scaling row group sizes to 84,44% for 9 writers\n",
      "25/04/08 11:06:52 WARN MemoryManager: Total allocation exceeds 95,00% (1.020.054.720 bytes) of heap memory\n",
      "Scaling row group sizes to 76,00% for 10 writers\n",
      "25/04/08 11:06:52 WARN MemoryManager: Total allocation exceeds 95,00% (1.020.054.720 bytes) of heap memory\n",
      "Scaling row group sizes to 69,09% for 11 writers\n",
      "25/04/08 11:06:54 WARN MemoryManager: Total allocation exceeds 95,00% (1.020.054.720 bytes) of heap memory\n",
      "Scaling row group sizes to 76,00% for 10 writers\n",
      "25/04/08 11:06:54 WARN MemoryManager: Total allocation exceeds 95,00% (1.020.054.720 bytes) of heap memory\n",
      "Scaling row group sizes to 84,44% for 9 writers\n",
      "25/04/08 11:06:54 WARN MemoryManager: Total allocation exceeds 95,00% (1.020.054.720 bytes) of heap memory\n",
      "Scaling row group sizes to 95,00% for 8 writers\n",
      "25/04/08 11:06:54 WARN MemoryManager: Total allocation exceeds 95,00% (1.020.054.720 bytes) of heap memory\n",
      "Scaling row group sizes to 95,00% for 8 writers\n",
      "25/04/08 11:06:54 WARN MemoryManager: Total allocation exceeds 95,00% (1.020.054.720 bytes) of heap memory\n",
      "Scaling row group sizes to 84,44% for 9 writers\n",
      "25/04/08 11:06:54 WARN MemoryManager: Total allocation exceeds 95,00% (1.020.054.720 bytes) of heap memory\n",
      "Scaling row group sizes to 95,00% for 8 writers\n",
      "25/04/08 11:06:54 WARN MemoryManager: Total allocation exceeds 95,00% (1.020.054.720 bytes) of heap memory\n",
      "Scaling row group sizes to 95,00% for 8 writers\n",
      "25/04/08 11:06:54 WARN MemoryManager: Total allocation exceeds 95,00% (1.020.054.720 bytes) of heap memory\n",
      "Scaling row group sizes to 84,44% for 9 writers\n",
      "25/04/08 11:06:54 WARN MemoryManager: Total allocation exceeds 95,00% (1.020.054.720 bytes) of heap memory\n",
      "Scaling row group sizes to 76,00% for 10 writers\n",
      "25/04/08 11:06:54 WARN MemoryManager: Total allocation exceeds 95,00% (1.020.054.720 bytes) of heap memory\n",
      "Scaling row group sizes to 69,09% for 11 writers\n",
      "25/04/08 11:06:56 WARN MemoryManager: Total allocation exceeds 95,00% (1.020.054.720 bytes) of heap memory\n",
      "Scaling row group sizes to 76,00% for 10 writers\n",
      "25/04/08 11:06:56 WARN MemoryManager: Total allocation exceeds 95,00% (1.020.054.720 bytes) of heap memory\n",
      "Scaling row group sizes to 84,44% for 9 writers\n",
      "25/04/08 11:06:56 WARN MemoryManager: Total allocation exceeds 95,00% (1.020.054.720 bytes) of heap memory\n",
      "Scaling row group sizes to 95,00% for 8 writers\n",
      "25/04/08 11:06:56 WARN MemoryManager: Total allocation exceeds 95,00% (1.020.054.720 bytes) of heap memory\n",
      "Scaling row group sizes to 84,44% for 9 writers\n",
      "25/04/08 11:06:56 WARN MemoryManager: Total allocation exceeds 95,00% (1.020.054.720 bytes) of heap memory\n",
      "Scaling row group sizes to 95,00% for 8 writers\n",
      "25/04/08 11:06:56 WARN MemoryManager: Total allocation exceeds 95,00% (1.020.054.720 bytes) of heap memory\n",
      "Scaling row group sizes to 84,44% for 9 writers\n",
      "25/04/08 11:06:56 WARN MemoryManager: Total allocation exceeds 95,00% (1.020.054.720 bytes) of heap memory\n",
      "Scaling row group sizes to 76,00% for 10 writers\n",
      "25/04/08 11:06:56 WARN MemoryManager: Total allocation exceeds 95,00% (1.020.054.720 bytes) of heap memory\n",
      "Scaling row group sizes to 84,44% for 9 writers\n",
      "25/04/08 11:06:56 WARN MemoryManager: Total allocation exceeds 95,00% (1.020.054.720 bytes) of heap memory\n",
      "Scaling row group sizes to 76,00% for 10 writers\n",
      "25/04/08 11:06:56 WARN MemoryManager: Total allocation exceeds 95,00% (1.020.054.720 bytes) of heap memory\n",
      "Scaling row group sizes to 84,44% for 9 writers\n",
      "25/04/08 11:06:56 WARN MemoryManager: Total allocation exceeds 95,00% (1.020.054.720 bytes) of heap memory\n",
      "Scaling row group sizes to 76,00% for 10 writers\n",
      "25/04/08 11:06:56 WARN MemoryManager: Total allocation exceeds 95,00% (1.020.054.720 bytes) of heap memory\n",
      "Scaling row group sizes to 69,09% for 11 writers\n",
      "25/04/08 11:06:56 WARN MemoryManager: Total allocation exceeds 95,00% (1.020.054.720 bytes) of heap memory\n",
      "Scaling row group sizes to 76,00% for 10 writers\n",
      "25/04/08 11:06:56 WARN MemoryManager: Total allocation exceeds 95,00% (1.020.054.720 bytes) of heap memory\n",
      "Scaling row group sizes to 84,44% for 9 writers\n",
      "25/04/08 11:06:56 WARN MemoryManager: Total allocation exceeds 95,00% (1.020.054.720 bytes) of heap memory\n",
      "Scaling row group sizes to 95,00% for 8 writers\n",
      "25/04/08 11:06:56 WARN MemoryManager: Total allocation exceeds 95,00% (1.020.054.720 bytes) of heap memory\n",
      "Scaling row group sizes to 95,00% for 8 writers\n",
      "25/04/08 11:06:56 WARN MemoryManager: Total allocation exceeds 95,00% (1.020.054.720 bytes) of heap memory\n",
      "Scaling row group sizes to 84,44% for 9 writers\n",
      "25/04/08 11:06:56 WARN MemoryManager: Total allocation exceeds 95,00% (1.020.054.720 bytes) of heap memory\n",
      "Scaling row group sizes to 95,00% for 8 writers\n",
      "25/04/08 11:06:56 WARN MemoryManager: Total allocation exceeds 95,00% (1.020.054.720 bytes) of heap memory\n",
      "Scaling row group sizes to 84,44% for 9 writers\n",
      "25/04/08 11:06:56 WARN MemoryManager: Total allocation exceeds 95,00% (1.020.054.720 bytes) of heap memory\n",
      "Scaling row group sizes to 76,00% for 10 writers\n",
      "25/04/08 11:06:56 WARN MemoryManager: Total allocation exceeds 95,00% (1.020.054.720 bytes) of heap memory\n",
      "Scaling row group sizes to 69,09% for 11 writers\n",
      "25/04/08 11:06:58 WARN MemoryManager: Total allocation exceeds 95,00% (1.020.054.720 bytes) of heap memory\n",
      "Scaling row group sizes to 76,00% for 10 writers\n",
      "25/04/08 11:06:58 WARN MemoryManager: Total allocation exceeds 95,00% (1.020.054.720 bytes) of heap memory\n",
      "Scaling row group sizes to 84,44% for 9 writers\n",
      "25/04/08 11:06:58 WARN MemoryManager: Total allocation exceeds 95,00% (1.020.054.720 bytes) of heap memory\n",
      "Scaling row group sizes to 95,00% for 8 writers\n",
      "25/04/08 11:06:58 WARN MemoryManager: Total allocation exceeds 95,00% (1.020.054.720 bytes) of heap memory\n",
      "Scaling row group sizes to 95,00% for 8 writers\n",
      "25/04/08 11:06:58 WARN MemoryManager: Total allocation exceeds 95,00% (1.020.054.720 bytes) of heap memory\n",
      "Scaling row group sizes to 84,44% for 9 writers\n",
      "25/04/08 11:06:58 WARN MemoryManager: Total allocation exceeds 95,00% (1.020.054.720 bytes) of heap memory\n",
      "Scaling row group sizes to 76,00% for 10 writers\n",
      "25/04/08 11:06:58 WARN MemoryManager: Total allocation exceeds 95,00% (1.020.054.720 bytes) of heap memory\n",
      "Scaling row group sizes to 69,09% for 11 writers\n",
      "25/04/08 11:06:58 WARN MemoryManager: Total allocation exceeds 95,00% (1.020.054.720 bytes) of heap memory\n",
      "Scaling row group sizes to 76,00% for 10 writers\n",
      "25/04/08 11:06:58 WARN MemoryManager: Total allocation exceeds 95,00% (1.020.054.720 bytes) of heap memory\n",
      "Scaling row group sizes to 84,44% for 9 writers\n",
      "25/04/08 11:06:58 WARN MemoryManager: Total allocation exceeds 95,00% (1.020.054.720 bytes) of heap memory\n",
      "Scaling row group sizes to 76,00% for 10 writers\n",
      "25/04/08 11:06:58 WARN MemoryManager: Total allocation exceeds 95,00% (1.020.054.720 bytes) of heap memory\n",
      "Scaling row group sizes to 84,44% for 9 writers\n",
      "25/04/08 11:06:58 WARN MemoryManager: Total allocation exceeds 95,00% (1.020.054.720 bytes) of heap memory\n",
      "Scaling row group sizes to 76,00% for 10 writers\n",
      "25/04/08 11:06:58 WARN MemoryManager: Total allocation exceeds 95,00% (1.020.054.720 bytes) of heap memory\n",
      "Scaling row group sizes to 84,44% for 9 writers\n",
      "25/04/08 11:06:58 WARN MemoryManager: Total allocation exceeds 95,00% (1.020.054.720 bytes) of heap memory\n",
      "Scaling row group sizes to 95,00% for 8 writers\n",
      "25/04/08 11:06:58 WARN MemoryManager: Total allocation exceeds 95,00% (1.020.054.720 bytes) of heap memory\n",
      "Scaling row group sizes to 95,00% for 8 writers\n",
      "25/04/08 11:06:58 WARN MemoryManager: Total allocation exceeds 95,00% (1.020.054.720 bytes) of heap memory\n",
      "Scaling row group sizes to 84,44% for 9 writers\n",
      "25/04/08 11:06:58 WARN MemoryManager: Total allocation exceeds 95,00% (1.020.054.720 bytes) of heap memory\n",
      "Scaling row group sizes to 76,00% for 10 writers\n",
      "25/04/08 11:06:58 WARN MemoryManager: Total allocation exceeds 95,00% (1.020.054.720 bytes) of heap memory\n",
      "Scaling row group sizes to 69,09% for 11 writers\n",
      "25/04/08 11:06:58 WARN MemoryManager: Total allocation exceeds 95,00% (1.020.054.720 bytes) of heap memory\n",
      "Scaling row group sizes to 76,00% for 10 writers\n",
      "25/04/08 11:06:58 WARN MemoryManager: Total allocation exceeds 95,00% (1.020.054.720 bytes) of heap memory\n",
      "Scaling row group sizes to 69,09% for 11 writers\n",
      "25/04/08 11:06:59 WARN MemoryManager: Total allocation exceeds 95,00% (1.020.054.720 bytes) of heap memory\n",
      "Scaling row group sizes to 76,00% for 10 writers\n",
      "25/04/08 11:06:59 WARN MemoryManager: Total allocation exceeds 95,00% (1.020.054.720 bytes) of heap memory\n",
      "Scaling row group sizes to 84,44% for 9 writers\n",
      "25/04/08 11:06:59 WARN MemoryManager: Total allocation exceeds 95,00% (1.020.054.720 bytes) of heap memory\n",
      "Scaling row group sizes to 95,00% for 8 writers\n",
      "25/04/08 11:06:59 WARN MemoryManager: Total allocation exceeds 95,00% (1.020.054.720 bytes) of heap memory\n",
      "Scaling row group sizes to 84,44% for 9 writers\n",
      "25/04/08 11:06:59 WARN MemoryManager: Total allocation exceeds 95,00% (1.020.054.720 bytes) of heap memory\n",
      "Scaling row group sizes to 95,00% for 8 writers\n",
      "25/04/08 11:07:00 WARN MemoryManager: Total allocation exceeds 95,00% (1.020.054.720 bytes) of heap memory\n",
      "Scaling row group sizes to 84,44% for 9 writers\n",
      "25/04/08 11:07:00 WARN MemoryManager: Total allocation exceeds 95,00% (1.020.054.720 bytes) of heap memory\n",
      "Scaling row group sizes to 76,00% for 10 writers\n",
      "25/04/08 11:07:00 WARN MemoryManager: Total allocation exceeds 95,00% (1.020.054.720 bytes) of heap memory\n",
      "Scaling row group sizes to 84,44% for 9 writers\n",
      "25/04/08 11:07:00 WARN MemoryManager: Total allocation exceeds 95,00% (1.020.054.720 bytes) of heap memory\n",
      "Scaling row group sizes to 76,00% for 10 writers\n",
      "25/04/08 11:07:00 WARN MemoryManager: Total allocation exceeds 95,00% (1.020.054.720 bytes) of heap memory\n",
      "Scaling row group sizes to 84,44% for 9 writers\n",
      "25/04/08 11:07:00 WARN MemoryManager: Total allocation exceeds 95,00% (1.020.054.720 bytes) of heap memory\n",
      "Scaling row group sizes to 76,00% for 10 writers\n",
      "25/04/08 11:07:00 WARN MemoryManager: Total allocation exceeds 95,00% (1.020.054.720 bytes) of heap memory\n",
      "Scaling row group sizes to 84,44% for 9 writers\n",
      "25/04/08 11:07:00 WARN MemoryManager: Total allocation exceeds 95,00% (1.020.054.720 bytes) of heap memory\n",
      "Scaling row group sizes to 95,00% for 8 writers\n",
      "                                                                                \r"
     ]
    }
   ],
   "execution_count": 7
  },
  {
   "metadata": {},
   "cell_type": "markdown",
   "source": "Filtrando os dados de matriculas",
   "id": "de764103b96deb59"
  },
  {
   "metadata": {
    "ExecuteTime": {
     "end_time": "2025-04-08T14:07:03.504351Z",
     "start_time": "2025-04-08T14:07:01.434874Z"
    }
   },
   "cell_type": "code",
   "source": "df_matriculas = spark.read.csv(\"data/matricula.csv\", header=True, inferSchema=True)",
   "id": "26aa960f05055f4a",
   "outputs": [
    {
     "name": "stderr",
     "output_type": "stream",
     "text": [
      "                                                                                \r"
     ]
    }
   ],
   "execution_count": 8
  },
  {
   "metadata": {
    "ExecuteTime": {
     "end_time": "2025-04-08T14:07:03.518250Z",
     "start_time": "2025-04-08T14:07:03.512476Z"
    }
   },
   "cell_type": "code",
   "source": "df_matricula_filtrados = df_matriculas.filter(col('ano') == 2007)",
   "id": "c398f9de078425ee",
   "outputs": [],
   "execution_count": 9
  },
  {
   "metadata": {
    "ExecuteTime": {
     "end_time": "2025-04-08T14:07:03.600474Z",
     "start_time": "2025-04-08T14:07:03.523780Z"
    }
   },
   "cell_type": "code",
   "source": "df_matricula_filtrados.show()",
   "id": "5dc2b01c52332b56",
   "outputs": [
    {
     "name": "stdout",
     "output_type": "stream",
     "text": [
      "+----+--------+------------+----+--------------------+------------+-----+----+--------+--------------------+-----------+--------+--------------------+------------------+-----------------------+------+-------------+--------------------+------------+------------+------------------+-------+---+------------------+\n",
      "| ano|sigla_uf|id_municipio|rede|            id_aluno|id_matricula|idade|sexo|raca_cor|necessidade_especial|baixa_visao|cegueira|deficiencia_auditiva|deficiencia_fisica|deficiencia_intelectual|surdez|surdocegueira|deficiencia_multipla|superdotacao|etapa_ensino|especial_exclusiva|regular|eja|profissionalizante|\n",
      "+----+--------+------------+----+--------------------+------------+-----+----+--------+--------------------+-----------+--------+--------------------+------------------+-----------------------+------+-------------+--------------------+------------+------------+------------------+-------+---+------------------+\n",
      "|2007|      PE|     2613701|   1|1E1FB10A13D0BDAC5...|   158733596|   27|   1|       2|                   0|          0|       0|                   0|                 0|                      0|     0|            0|                   0|           0|          39|                 0|      0|  0|                 1|\n",
      "|2007|      PE|     2602902|   4|2F30AFA1DCA19C77B...|   158733604|   17|   1|       0|                   0|          0|       0|                   0|                 0|                      0|     0|            0|                   0|           0|           5|                 0|      1|  0|                 0|\n",
      "|2007|      PE|     2613404|   4|E797E012BCE86EEAB...|   158733605|    6|   1|       0|                   0|          0|       0|                   0|                 0|                      0|     0|            0|                   0|           0|           2|                 0|      1|  0|                 0|\n",
      "|2007|      PE|     2604403|   3|63DF784E769357D71...|   119476518|    8|   1|       3|                   0|          0|       0|                   0|                 0|                      0|     0|            0|                   0|           0|           5|                 0|      1|  0|                 0|\n",
      "|2007|      PE|     2604106|   3|3FDC5C568CF504A7F...|   125687022|   11|   1|       0|                   0|          0|       0|                   0|                 0|                      0|     0|            0|                   0|           0|          18|                 0|      1|  0|                 0|\n",
      "|2007|      PE|     2601300|   2|0B2A75DE6D52B2429...|   129924088|   15|   2|       3|                   0|          0|       0|                   0|                 0|                      0|     0|            0|                   0|           0|          10|                 0|      1|  0|                 0|\n",
      "|2007|      PE|     2604106|   3|A6F1E70C0A14574B2...|   129924729|   10|   1|       0|                   0|          0|       0|                   0|                 0|                      0|     0|            0|                   0|           0|           5|                 0|      1|  0|                 0|\n",
      "|2007|      PE|     2613909|   4|E8D657531DB2D3298...|   139801685|    6|   2|       0|                   0|          0|       0|                   0|                 0|                      0|     0|            0|                   0|           0|           2|                 0|      1|  0|                 0|\n",
      "|2007|      PE|     2603207|   3|A4DB6D3D844E478A5...|   139801695|   14|   1|       0|                   1|          1|       0|                   0|                 0|                      0|     0|            0|                   0|           0|           6|                 1|      1|  0|                 0|\n",
      "|2007|      PE|     2609600|   2|767C5C5D1ECF7BE09...|   114782164|   19|   2|       0|                   0|          0|       0|                   0|                 0|                      0|     0|            0|                   0|           0|          10|                 0|      1|  0|                 0|\n",
      "|2007|      PE|     2600054|   4|04E98F5C5BD91D44D...|   114782897|   14|   1|       4|                   1|          0|       0|                   0|                 0|                      1|     0|            0|                   0|           0|           4|                 0|      1|  0|                 0|\n",
      "|2007|      PE|     2610004|   4|1E252C96263DD6402...|   158734232|    6|   2|       0|                   0|          0|       0|                   0|                 0|                      0|     0|            0|                   0|           0|           2|                 0|      1|  0|                 0|\n",
      "|2007|      PE|     2602803|   3|C630C6127E1B28C04...|   157785625|   10|   2|       3|                   0|          0|       0|                   0|                 0|                      0|     0|            0|                   0|           0|           6|                 0|      1|  0|                 0|\n",
      "|2007|      PE|     2611606|   4|332DF88E67E2AB505...|   157786332|    9|   2|       0|                   0|          0|       0|                   0|                 0|                      0|     0|            0|                   0|           0|           6|                 0|      1|  0|                 0|\n",
      "|2007|      PE|     2603454|   2|19DCCE98CC14592E5...|   192167357|   12|   2|       0|                   0|          0|       0|                   0|                 0|                      0|     0|            0|                   0|           0|           7|                 0|      1|  0|                 0|\n",
      "|2007|      PE|     2603454|   2|B684F347065719446...|   192167358|   14|   2|       0|                   0|          0|       0|                   0|                 0|                      0|     0|            0|                   0|           0|           7|                 0|      1|  0|                 0|\n",
      "|2007|      PE|     2603454|   2|65E9AB26575181DE5...|   192167359|   33|   1|       0|                   0|          0|       0|                   0|                 0|                      0|     0|            0|                   0|           0|          70|                 0|      0|  1|                 0|\n",
      "|2007|      PE|     2603454|   2|B2C99407BEF9C51E3...|   192167360|   40|   2|       0|                   0|          0|       0|                   0|                 0|                      0|     0|            0|                   0|           0|          70|                 0|      0|  1|                 0|\n",
      "|2007|      PE|     2603454|   2|221378218B3A036D5...|   192167361|   19|   2|       0|                   0|          0|       0|                   0|                 0|                      0|     0|            0|                   0|           0|          70|                 0|      0|  1|                 0|\n",
      "|2007|      PE|     2603454|   2|0BE729C92FF04C51F...|   192167362|   17|   2|       0|                   0|          0|       0|                   0|                 0|                      0|     0|            0|                   0|           0|          70|                 0|      0|  1|                 0|\n",
      "+----+--------+------------+----+--------------------+------------+-----+----+--------+--------------------+-----------+--------+--------------------+------------------+-----------------------+------+-------------+--------------------+------------+------------+------------------+-------+---+------------------+\n",
      "only showing top 20 rows\n",
      "\n"
     ]
    }
   ],
   "execution_count": 10
  },
  {
   "metadata": {
    "ExecuteTime": {
     "end_time": "2025-04-08T14:24:31.778120Z",
     "start_time": "2025-04-08T14:24:27.405156Z"
    }
   },
   "cell_type": "code",
   "source": [
    "caminho_saida = 'data/matriculas.parquet'\n",
    "# Exportar para CSV\n",
    "df_matricula_filtrados.write \\\n",
    "    .mode('overwrite') \\\n",
    "    .option('compression', 'snappy') \\\n",
    "    .parquet(caminho_saida)"
   ],
   "id": "6f74f856d08488bb",
   "outputs": [
    {
     "name": "stderr",
     "output_type": "stream",
     "text": [
      "25/04/08 11:24:27 WARN MemoryManager: Total allocation exceeds 95,00% (1.020.054.720 bytes) of heap memory\n",
      "Scaling row group sizes to 95,00% for 8 writers\n",
      "25/04/08 11:24:27 WARN MemoryManager: Total allocation exceeds 95,00% (1.020.054.720 bytes) of heap memory\n",
      "Scaling row group sizes to 84,44% for 9 writers\n",
      "25/04/08 11:24:27 WARN MemoryManager: Total allocation exceeds 95,00% (1.020.054.720 bytes) of heap memory\n",
      "Scaling row group sizes to 76,00% for 10 writers\n",
      "25/04/08 11:24:27 WARN MemoryManager: Total allocation exceeds 95,00% (1.020.054.720 bytes) of heap memory\n",
      "Scaling row group sizes to 69,09% for 11 writers\n",
      "25/04/08 11:24:31 WARN MemoryManager: Total allocation exceeds 95,00% (1.020.054.720 bytes) of heap memory\n",
      "Scaling row group sizes to 76,00% for 10 writers\n",
      "25/04/08 11:24:31 WARN MemoryManager: Total allocation exceeds 95,00% (1.020.054.720 bytes) of heap memory\n",
      "Scaling row group sizes to 84,44% for 9 writers\n",
      "25/04/08 11:24:31 WARN MemoryManager: Total allocation exceeds 95,00% (1.020.054.720 bytes) of heap memory\n",
      "Scaling row group sizes to 95,00% for 8 writers\n",
      "                                                                                \r"
     ]
    }
   ],
   "execution_count": 11
  }
 ],
 "metadata": {
  "kernelspec": {
   "display_name": "Python 3",
   "language": "python",
   "name": "python3"
  },
  "language_info": {
   "codemirror_mode": {
    "name": "ipython",
    "version": 2
   },
   "file_extension": ".py",
   "mimetype": "text/x-python",
   "name": "python",
   "nbconvert_exporter": "python",
   "pygments_lexer": "ipython2",
   "version": "2.7.6"
  }
 },
 "nbformat": 4,
 "nbformat_minor": 5
}
