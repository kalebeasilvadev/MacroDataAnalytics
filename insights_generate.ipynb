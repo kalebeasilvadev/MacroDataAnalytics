{
 "cells": [
  {
   "cell_type": "code",
   "id": "initial_id",
   "metadata": {
    "collapsed": true,
    "ExecuteTime": {
     "end_time": "2025-04-09T20:48:54.724591Z",
     "start_time": "2025-04-09T20:48:54.717207Z"
    }
   },
   "source": [
    "import pandas as pd\n",
    "from langchain_openai import ChatOpenAI\n",
    "from langchain.schema import SystemMessage, HumanMessage\n",
    "from langchain.prompts import ChatPromptTemplate"
   ],
   "outputs": [],
   "execution_count": 41
  },
  {
   "metadata": {
    "ExecuteTime": {
     "end_time": "2025-04-09T20:48:54.804502Z",
     "start_time": "2025-04-09T20:48:54.801819Z"
    }
   },
   "cell_type": "code",
   "source": [
    "import os\n",
    "os.environ[\"OPENAI_API_KEY\"] = \"sk-...\"\n",
    "os.environ[\"OPENAI_API_BASE\"] = \"https://api.groq.com/openai/v1\""
   ],
   "id": "5f2c1b9e57285108",
   "outputs": [],
   "execution_count": 42
  },
  {
   "metadata": {
    "ExecuteTime": {
     "end_time": "2025-04-09T20:48:54.817069Z",
     "start_time": "2025-04-09T20:48:54.812004Z"
    }
   },
   "cell_type": "code",
   "source": "df = pd.read_csv('analise_geral.csv')",
   "id": "b36c85ea4826cd19",
   "outputs": [],
   "execution_count": 43
  },
  {
   "metadata": {
    "ExecuteTime": {
     "end_time": "2025-04-09T20:48:54.843748Z",
     "start_time": "2025-04-09T20:48:54.826544Z"
    }
   },
   "cell_type": "code",
   "source": [
    "# Opcional: também pode ler raça e deficiência\n",
    "df_raca = pd.read_csv('analise_por_raca.csv')\n",
    "df_deficiencia = pd.read_csv('analise_por_deficiencia.csv')"
   ],
   "id": "dee2f6a0b362de02",
   "outputs": [],
   "execution_count": 44
  },
  {
   "metadata": {
    "ExecuteTime": {
     "end_time": "2025-04-09T20:48:54.872546Z",
     "start_time": "2025-04-09T20:48:54.869970Z"
    }
   },
   "cell_type": "code",
   "source": [
    "# 2. Preparar o resumo automático dos dados para enviar no prompt\n",
    "# Simplificamos para não ultrapassar limite de tokens\n",
    "resumo = []"
   ],
   "id": "cc9b47348775795b",
   "outputs": [],
   "execution_count": 45
  },
  {
   "metadata": {
    "ExecuteTime": {
     "end_time": "2025-04-09T20:48:54.942897Z",
     "start_time": "2025-04-09T20:48:54.916500Z"
    }
   },
   "cell_type": "code",
   "source": [
    "resumo.append(\"### Análise Geral por Estado:\")\n",
    "for index, row in df.iterrows():\n",
    "    resumo.append(f\"Estado: {row['sigla_uf']}, Total Empregados: {row['total_empregados']}, Total Desempregados: {row['total_desempregados']}, Desligados por 1000 Matrículas: {row['desligados_por_1000_matriculas']:.2f}, Taxa Desemprego: {row['taxa_desemprego']:.2f}%, Relação Empregados/Desempregado: {row['empregados_por_desempregado']:.2f}\")\n",
    "\n",
    "resumo.append(\"\\n### Análise por Raça:\")\n",
    "for index, row in df_raca.iterrows():\n",
    "    resumo.append(f\"Ano: {row['ano']}, Estado: {row['sigla_uf']}, Raça: {row['raca_cor']}, Empregados: {row['empregados_raca']}, Desempregados: {row['desempregados_raca']}\")\n",
    "\n",
    "resumo.append(\"\\n### Análise por Deficiência:\")\n",
    "for index, row in df_deficiencia.iterrows():\n",
    "    resumo.append(f\"Ano: {row['ano']}, Estado: {row['sigla_uf']}, Deficiência: {row['indicador_portador_deficiencia']}, Empregados: {row['empregados_deficiencia']}, Desempregados: {row['desempregados_deficiencia']}\")\n"
   ],
   "id": "a90bb2e74e3b6c2a",
   "outputs": [],
   "execution_count": 46
  },
  {
   "metadata": {
    "ExecuteTime": {
     "end_time": "2025-04-09T20:48:54.959992Z",
     "start_time": "2025-04-09T20:48:54.957032Z"
    }
   },
   "cell_type": "code",
   "source": [
    "# 3. Criar o template do prompt\n",
    "prompt_template = ChatPromptTemplate.from_messages([\n",
    "    SystemMessage(content=\"Você é um assistente de análise de dados acadêmico, que responde de forma impessoal e estruturada para relatórios de pós-graduação.\"),\n",
    "    HumanMessage(content=f\"\"\"\n",
    "Sou um analista de dados que está preparando um relatório para um trabalho de pós-graduação sobre o mercado de trabalho e educação no Brasil.\n",
    "\n",
    "Baseando-se nestes dados:\n",
    "\n",
    "{os.linesep.join(resumo[:100])}\n",
    "\n",
    "Por favor, de forma estruturada e impessoal, forneça insights acadêmicos sobre:\n",
    "- Quais são as regiões mais afetadas pelo desemprego.\n",
    "- Quais grupos raciais e pessoas com deficiência enfrentam maiores dificuldades no emprego.\n",
    "- Como o número de matrículas se relaciona com o desemprego.\n",
    "- Destaque os padrões ou anomalias mais relevantes.\n",
    "- Não use julgamentos, apenas análises técnicas baseadas nos dados fornecidos.\n",
    "\n",
    "Formato da resposta:\n",
    "1. Sumário Executivo\n",
    "2. Regiões Críticas\n",
    "3. Grupos Sociais Impactados\n",
    "4. Conexões entre Educação e Trabalho\n",
    "5. Conclusão\n",
    "\"\"\")\n",
    "])"
   ],
   "id": "21478eac9e69ff91",
   "outputs": [],
   "execution_count": 47
  },
  {
   "metadata": {
    "ExecuteTime": {
     "end_time": "2025-04-09T20:48:55.005351Z",
     "start_time": "2025-04-09T20:48:54.967207Z"
    }
   },
   "cell_type": "code",
   "source": [
    "# 4. Configurar o modelo do Groq via Langchain\n",
    "chat = ChatOpenAI(\n",
    "    model=\"meta-llama/llama-4-scout-17b-16e-instruct\",\n",
    "    temperature=0.7\n",
    ")"
   ],
   "id": "9a70532372eb2e41",
   "outputs": [],
   "execution_count": 48
  },
  {
   "metadata": {
    "ExecuteTime": {
     "end_time": "2025-04-09T20:48:55.016236Z",
     "start_time": "2025-04-09T20:48:55.012066Z"
    }
   },
   "cell_type": "code",
   "source": [
    "from langchain.schema import BaseOutputParser\n",
    "\n",
    "\n",
    "class CustomMarkdownOutputParser(BaseOutputParser):\n",
    "    def parse(self, text: str) -> str:\n",
    "        \"\"\"\n",
    "        Lógica de parsing que simplesmente retorna o texto, sem alterações.\n",
    "        \"\"\"\n",
    "        return text\n",
    "\n",
    "    def invoke(self, input, config=None):\n",
    "        \"\"\"\n",
    "        Método ajustado para retornar diretamente o texto recebido.\n",
    "        :param input: Entrada, um texto que será processado.\n",
    "        :param config: Argumento adicional (opcional) para configurações, mantido para compatibilidade.\n",
    "        \"\"\"\n",
    "        # Apenas imprimimos para depuração, sem alterar o fluxo do método.\n",
    "        print(\"Input recebido:\", input)\n",
    "        if config:\n",
    "            print(\"Config recebido:\", config)\n",
    "\n",
    "        # Retorna o texto recebido, sem modificações.\n",
    "        return input\n",
    "\n",
    "    def __call__(self, input: str) -> str:\n",
    "        \"\"\"\n",
    "        Permite que a instância seja chamada diretamente, retornando o texto sem alterações.\n",
    "        \"\"\"\n",
    "        return self.invoke(input)\n",
    "\n"
   ],
   "id": "d2b15b4e602fd73a",
   "outputs": [],
   "execution_count": 49
  },
  {
   "metadata": {
    "ExecuteTime": {
     "end_time": "2025-04-09T20:48:55.024461Z",
     "start_time": "2025-04-09T20:48:55.022929Z"
    }
   },
   "cell_type": "code",
   "source": [
    "# 5. Configurar o parser de saída\n",
    "parser = CustomMarkdownOutputParser()"
   ],
   "id": "95eba64647319541",
   "outputs": [],
   "execution_count": 50
  },
  {
   "metadata": {
    "ExecuteTime": {
     "end_time": "2025-04-09T20:48:55.041726Z",
     "start_time": "2025-04-09T20:48:55.040130Z"
    }
   },
   "cell_type": "code",
   "source": [
    "# 6. Rodar a cadeia\n",
    "chain = prompt_template | chat | parser"
   ],
   "id": "678fe1056b2f546e",
   "outputs": [],
   "execution_count": 51
  },
  {
   "metadata": {
    "ExecuteTime": {
     "end_time": "2025-04-09T20:48:56.900856Z",
     "start_time": "2025-04-09T20:48:55.049281Z"
    }
   },
   "cell_type": "code",
   "source": [
    "# 7. Executar e salvar\n",
    "response = chain.invoke({})"
   ],
   "id": "d5304b4874a29220",
   "outputs": [
    {
     "name": "stdout",
     "output_type": "stream",
     "text": [
      "Input recebido: content='## 1. Sumário Executivo\\nEste relatório analisa a situação do mercado de trabalho e educação no Brasil, com foco em dados de emprego, desemprego e matrículas por estado e grupos raciais. Os resultados indicam que há disparidades significativas no desemprego entre diferentes estados e grupos raciais. Além disso, há uma correlação entre o número de matrículas e as taxas de desemprego.\\n\\n## 2. Regiões Críticas\\n- **Taxas de Desemprego por Estado:** Os estados com as maiores taxas de desemprego são AL (49.64%), AC (49.76%) e MS (48.52%). Em contraste, RR apresenta a menor taxa de desemprego (45.74%).\\n- **Total de Desempregados:** Os estados com o maior número de desempregados são SP (597,715), MG (244,788) e RJ (151,727). Esses estados concentram as maiores populações economicamente ativas e, portanto, também os maiores contingentes de desempregados.\\n\\n## 3. Grupos Sociais Impactados\\n- **Grupos Raciais:** A análise por raça é limitada devido à presença de valores não numéricos (nan) em alguns registros. No entanto, podemos observar que:\\n  - A raça 8.0 aparece frequentemente em estados como BA (52,488 empregados), PA (25,852 empregados) e MA (10,859 empregados), sugerindo que este grupo racial tem uma presença significativa no mercado de trabalho nordestino.\\n  - A raça 9.0 é comum em estados como SP (2,670 empregados), RJ (4,246 empregados) e RS (5,604 empregados), indicando uma distribuição diversificada, mas com concentrações notáveis.\\n\\n## 4. Conexões entre Educação e Trabalho\\n- **Desligados por 1000 Matrículas:** Os estados com as maiores taxas de desligados por 1000 matrículas são MG (1,262.66), SP (2,059.69) e PR (980.65). Isso pode indicar uma alta rotatividade no mercado de trabalho ou uma grande oferta de educação profissional.\\n- **Relação entre Empregados e Desempregados:** A relação média entre empregados e desempregados varia de 1.01 (AC) a 1.19 (RR), sugerindo que alguns estados têm mercados de trabalho mais equilibrados do que outros.\\n\\n## 5. Conclusão\\nOs dados indicam que o desemprego é um problema generalizado no Brasil, com variações significativas entre estados e grupos raciais. A correlação entre o número de matrículas e as taxas de desemprego sugere que a educação pode ser um fator crítico para a empregabilidade. No entanto, são necessárias análises mais aprofundadas para entender as causas subjacentes dessas disparidades e desenvolver políticas públicas eficazes para mitigá-las.' additional_kwargs={'refusal': None} response_metadata={'token_usage': {'completion_tokens': 588, 'prompt_tokens': 3778, 'total_tokens': 4366, 'completion_tokens_details': None, 'prompt_tokens_details': None, 'queue_time': 0.23399460400000002, 'prompt_time': 0.10979849, 'completion_time': 1.1604820710000001, 'total_time': 1.2702805609999999}, 'model_name': 'meta-llama/llama-4-scout-17b-16e-instruct', 'system_fingerprint': 'fp_699032b16f', 'id': 'chatcmpl-b610c3b0-2c02-4fac-a76a-8287f389cc06', 'finish_reason': 'stop', 'logprobs': None} id='run-a569fc62-62ce-4b1e-8589-0614012d1589-0' usage_metadata={'input_tokens': 3778, 'output_tokens': 588, 'total_tokens': 4366, 'input_token_details': {}, 'output_token_details': {}}\n",
      "Config recebido: {'tags': [], 'metadata': {}, 'callbacks': <langchain_core.callbacks.manager.CallbackManager object at 0x11ab12900>, 'recursion_limit': 25, 'configurable': {}}\n"
     ]
    }
   ],
   "execution_count": 52
  },
  {
   "metadata": {
    "ExecuteTime": {
     "end_time": "2025-04-09T20:50:11.101854Z",
     "start_time": "2025-04-09T20:50:11.096208Z"
    }
   },
   "cell_type": "code",
   "source": "response.content",
   "id": "d37cdfb8063b2020",
   "outputs": [
    {
     "data": {
      "text/plain": [
       "'## 1. Sumário Executivo\\nEste relatório analisa a situação do mercado de trabalho e educação no Brasil, com foco em dados de emprego, desemprego e matrículas por estado e grupos raciais. Os resultados indicam que há disparidades significativas no desemprego entre diferentes estados e grupos raciais. Além disso, há uma correlação entre o número de matrículas e as taxas de desemprego.\\n\\n## 2. Regiões Críticas\\n- **Taxas de Desemprego por Estado:** Os estados com as maiores taxas de desemprego são AL (49.64%), AC (49.76%) e MS (48.52%). Em contraste, RR apresenta a menor taxa de desemprego (45.74%).\\n- **Total de Desempregados:** Os estados com o maior número de desempregados são SP (597,715), MG (244,788) e RJ (151,727). Esses estados concentram as maiores populações economicamente ativas e, portanto, também os maiores contingentes de desempregados.\\n\\n## 3. Grupos Sociais Impactados\\n- **Grupos Raciais:** A análise por raça é limitada devido à presença de valores não numéricos (nan) em alguns registros. No entanto, podemos observar que:\\n  - A raça 8.0 aparece frequentemente em estados como BA (52,488 empregados), PA (25,852 empregados) e MA (10,859 empregados), sugerindo que este grupo racial tem uma presença significativa no mercado de trabalho nordestino.\\n  - A raça 9.0 é comum em estados como SP (2,670 empregados), RJ (4,246 empregados) e RS (5,604 empregados), indicando uma distribuição diversificada, mas com concentrações notáveis.\\n\\n## 4. Conexões entre Educação e Trabalho\\n- **Desligados por 1000 Matrículas:** Os estados com as maiores taxas de desligados por 1000 matrículas são MG (1,262.66), SP (2,059.69) e PR (980.65). Isso pode indicar uma alta rotatividade no mercado de trabalho ou uma grande oferta de educação profissional.\\n- **Relação entre Empregados e Desempregados:** A relação média entre empregados e desempregados varia de 1.01 (AC) a 1.19 (RR), sugerindo que alguns estados têm mercados de trabalho mais equilibrados do que outros.\\n\\n## 5. Conclusão\\nOs dados indicam que o desemprego é um problema generalizado no Brasil, com variações significativas entre estados e grupos raciais. A correlação entre o número de matrículas e as taxas de desemprego sugere que a educação pode ser um fator crítico para a empregabilidade. No entanto, são necessárias análises mais aprofundadas para entender as causas subjacentes dessas disparidades e desenvolver políticas públicas eficazes para mitigá-las.'"
      ]
     },
     "execution_count": 57,
     "metadata": {},
     "output_type": "execute_result"
    }
   ],
   "execution_count": 57
  },
  {
   "metadata": {
    "ExecuteTime": {
     "end_time": "2025-04-09T20:50:26.554566Z",
     "start_time": "2025-04-09T20:50:26.549527Z"
    }
   },
   "cell_type": "code",
   "source": "resultado = parser(response.content)",
   "id": "fdf410d051f5d987",
   "outputs": [
    {
     "name": "stdout",
     "output_type": "stream",
     "text": [
      "Input recebido: ## 1. Sumário Executivo\n",
      "Este relatório analisa a situação do mercado de trabalho e educação no Brasil, com foco em dados de emprego, desemprego e matrículas por estado e grupos raciais. Os resultados indicam que há disparidades significativas no desemprego entre diferentes estados e grupos raciais. Além disso, há uma correlação entre o número de matrículas e as taxas de desemprego.\n",
      "\n",
      "## 2. Regiões Críticas\n",
      "- **Taxas de Desemprego por Estado:** Os estados com as maiores taxas de desemprego são AL (49.64%), AC (49.76%) e MS (48.52%). Em contraste, RR apresenta a menor taxa de desemprego (45.74%).\n",
      "- **Total de Desempregados:** Os estados com o maior número de desempregados são SP (597,715), MG (244,788) e RJ (151,727). Esses estados concentram as maiores populações economicamente ativas e, portanto, também os maiores contingentes de desempregados.\n",
      "\n",
      "## 3. Grupos Sociais Impactados\n",
      "- **Grupos Raciais:** A análise por raça é limitada devido à presença de valores não numéricos (nan) em alguns registros. No entanto, podemos observar que:\n",
      "  - A raça 8.0 aparece frequentemente em estados como BA (52,488 empregados), PA (25,852 empregados) e MA (10,859 empregados), sugerindo que este grupo racial tem uma presença significativa no mercado de trabalho nordestino.\n",
      "  - A raça 9.0 é comum em estados como SP (2,670 empregados), RJ (4,246 empregados) e RS (5,604 empregados), indicando uma distribuição diversificada, mas com concentrações notáveis.\n",
      "\n",
      "## 4. Conexões entre Educação e Trabalho\n",
      "- **Desligados por 1000 Matrículas:** Os estados com as maiores taxas de desligados por 1000 matrículas são MG (1,262.66), SP (2,059.69) e PR (980.65). Isso pode indicar uma alta rotatividade no mercado de trabalho ou uma grande oferta de educação profissional.\n",
      "- **Relação entre Empregados e Desempregados:** A relação média entre empregados e desempregados varia de 1.01 (AC) a 1.19 (RR), sugerindo que alguns estados têm mercados de trabalho mais equilibrados do que outros.\n",
      "\n",
      "## 5. Conclusão\n",
      "Os dados indicam que o desemprego é um problema generalizado no Brasil, com variações significativas entre estados e grupos raciais. A correlação entre o número de matrículas e as taxas de desemprego sugere que a educação pode ser um fator crítico para a empregabilidade. No entanto, são necessárias análises mais aprofundadas para entender as causas subjacentes dessas disparidades e desenvolver políticas públicas eficazes para mitigá-las.\n"
     ]
    }
   ],
   "execution_count": 58
  },
  {
   "metadata": {
    "ExecuteTime": {
     "end_time": "2025-04-09T20:50:57.358694Z",
     "start_time": "2025-04-09T20:50:57.354384Z"
    }
   },
   "cell_type": "code",
   "source": [
    "with open('insights_gerados_llm.txt', 'w', encoding='utf-8') as f:\n",
    "    f.write(resultado)\n",
    "\n",
    "print(\"✅ Insights gerados com Langchain e GroqCloud e salvos em 'insights_gerados_llm.txt'.\")"
   ],
   "id": "d2b3093976bff7b3",
   "outputs": [
    {
     "name": "stdout",
     "output_type": "stream",
     "text": [
      "✅ Insights gerados com Langchain e GroqCloud e salvos em 'insights_gerados_llm.txt'.\n"
     ]
    }
   ],
   "execution_count": 59
  }
 ],
 "metadata": {
  "kernelspec": {
   "display_name": "Python 3",
   "language": "python",
   "name": "python3"
  },
  "language_info": {
   "codemirror_mode": {
    "name": "ipython",
    "version": 2
   },
   "file_extension": ".py",
   "mimetype": "text/x-python",
   "name": "python",
   "nbconvert_exporter": "python",
   "pygments_lexer": "ipython2",
   "version": "2.7.6"
  }
 },
 "nbformat": 4,
 "nbformat_minor": 5
}
